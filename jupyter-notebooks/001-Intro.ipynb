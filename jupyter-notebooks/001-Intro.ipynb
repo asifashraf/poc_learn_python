{
 "cells": [
  {
   "attachments": {},
   "cell_type": "markdown",
   "id": "aa1bc0b7",
   "metadata": {},
   "source": [
    "## Testing Notebook basics"
   ]
  },
  {
   "cell_type": "code",
   "execution_count": 1,
   "id": "ac03b029",
   "metadata": {},
   "outputs": [
    {
     "name": "stdout",
     "output_type": "stream",
     "text": [
      "hello world\n"
     ]
    }
   ],
   "source": [
    "print(\"hello world\")"
   ]
  },
  {
   "attachments": {},
   "cell_type": "markdown",
   "id": "410296d7",
   "metadata": {},
   "source": [
    "### Introduction"
   ]
  },
  {
   "attachments": {},
   "cell_type": "markdown",
   "id": "e6fca8a7",
   "metadata": {},
   "source": [
    "## That was how we printed a message"
   ]
  },
  {
   "cell_type": "code",
   "execution_count": 2,
   "id": "cb3787d1",
   "metadata": {},
   "outputs": [
    {
     "name": "stdout",
     "output_type": "stream",
     "text": [
      "123\n"
     ]
    }
   ],
   "source": [
    "print(123)"
   ]
  },
  {
   "cell_type": "code",
   "execution_count": 2,
   "id": "c1d546c2",
   "metadata": {},
   "outputs": [],
   "source": [
    "name = \"asif\""
   ]
  },
  {
   "cell_type": "code",
   "execution_count": 5,
   "id": "433d76ae",
   "metadata": {},
   "outputs": [
    {
     "name": "stdout",
     "output_type": "stream",
     "text": [
      "asif\n"
     ]
    }
   ],
   "source": [
    "print(name)"
   ]
  },
  {
   "cell_type": "code",
   "execution_count": 7,
   "id": "7b28b257",
   "metadata": {},
   "outputs": [],
   "source": [
    "name = \"second\""
   ]
  },
  {
   "cell_type": "code",
   "execution_count": 10,
   "id": "af5f4da0",
   "metadata": {},
   "outputs": [
    {
     "name": "stdout",
     "output_type": "stream",
     "text": [
      "second\n"
     ]
    }
   ],
   "source": [
    "print(name)"
   ]
  }
 ],
 "metadata": {
  "kernelspec": {
   "display_name": "Python 3 (ipykernel)",
   "language": "python",
   "name": "python3"
  },
  "language_info": {
   "codemirror_mode": {
    "name": "ipython",
    "version": 3
   },
   "file_extension": ".py",
   "mimetype": "text/x-python",
   "name": "python",
   "nbconvert_exporter": "python",
   "pygments_lexer": "ipython3",
   "version": "3.10.12"
  }
 },
 "nbformat": 4,
 "nbformat_minor": 5
}
